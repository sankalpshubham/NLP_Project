{
 "cells": [
  {
   "cell_type": "markdown",
   "metadata": {},
   "source": [
    "# Install/Import dependencies"
   ]
  },
  {
   "cell_type": "code",
   "execution_count": null,
   "metadata": {},
   "outputs": [],
   "source": [
    "!pip install google.generativeai"
   ]
  },
  {
   "cell_type": "code",
   "execution_count": 1,
   "metadata": {},
   "outputs": [],
   "source": [
    "import yfinance as yf\n",
    "import requests\n",
    "from bs4 import BeautifulSoup\n",
    "import pathlib\n",
    "import textwrap\n",
    "import requests\n",
    "import os\n",
    "import json\n",
    "import pandas as pd\n",
    "import numpy as np\n",
    "import time\n",
    "\n",
    "import google.generativeai as genai\n",
    "\n",
    "from IPython.display import display\n",
    "from IPython.display import Markdown\n",
    "# from google.colab import userdata\n",
    "\n",
    "import nltk\n",
    "from nltk.classify import NaiveBayesClassifier\n",
    "from nltk.corpus import subjectivity\n",
    "from nltk.sentiment import SentimentAnalyzer\n",
    "from nltk.sentiment.util import *\n",
    "from nltk import tokenize\n",
    "from nltk.sentiment.vader import SentimentIntensityAnalyzer"
   ]
  },
  {
   "cell_type": "markdown",
   "metadata": {},
   "source": [
    "Load the Gemini Model and set up RapidAPI to pull data/news articles"
   ]
  },
  {
   "cell_type": "code",
   "execution_count": 2,
   "metadata": {},
   "outputs": [],
   "source": [
    "#getting creating gemini model\n",
    "def to_markdown(text):\n",
    "  text = text.replace('•', '  *')\n",
    "  return Markdown(textwrap.indent(text, '> ', predicate=lambda _: True))\n",
    "\n",
    "GOOGLE_API_KEY='___'\n",
    "X_RapidAPI_Key='___'\n",
    "\n",
    "genai.configure(api_key=GOOGLE_API_KEY)\n",
    "model = genai.GenerativeModel('gemini-pro')"
   ]
  },
  {
   "cell_type": "code",
   "execution_count": null,
   "metadata": {},
   "outputs": [],
   "source": [
    "# RapidAPI NewsNow\n",
    "url = \"https://newsnow.p.rapidapi.com/newsv2\"\n",
    "\n",
    "payload = {\n",
    "\t\"query\": \"Nvidia\",\n",
    "\t\"time_bounded\": True,\n",
    "\t\"from_date\": \"01/02/2024\",\n",
    "\t\"to_date\": \"03/06/2024\",\n",
    "\t\"location\": \"us\",\n",
    "\t\"language\": \"en\",\n",
    "\t\"page\": 1\n",
    "}\n",
    "headers = {\n",
    "\t\"content-type\": \"application/json\",\n",
    "\t\"X-RapidAPI-Key\": X_RapidAPI_Key,\n",
    "\t\"X-RapidAPI-Host\": \"newsnow.p.rapidapi.com\"\n",
    "}\n",
    "\n",
    "responses = []\n",
    "for i in range(1, 4):\n",
    "\ttemp_payload = payload\n",
    "\ttemp_payload['page'] = i\n",
    "\tresponses.append(requests.post(url, json=temp_payload, headers=headers))\n",
    "\n",
    "response = requests.post(url, json=payload, headers=headers)\n",
    "\n",
    "# print(response.json())"
   ]
  },
  {
   "cell_type": "markdown",
   "metadata": {},
   "source": [
    "View the format of the data collected"
   ]
  },
  {
   "cell_type": "code",
   "execution_count": 5,
   "metadata": {},
   "outputs": [
    {
     "name": "stdout",
     "output_type": "stream",
     "text": [
      "Title: Nvidia announces AI-powered health care 'agents' that outperform nurses — and cost $9 an hour\n",
      "Top Image: https://a57.foxnews.com/static.foxbusiness.com/foxbusiness.com/content/uploads/2021/05/0/0/Nurse-iStock.jpg?ve=1&tl=1\n",
      "Additional Images: ['https://a57.foxnews.com/static.foxbusiness.com/foxbusiness.com/content/uploads/2021/05/0/0/Nurse-iStock.jpg?ve=1&tl=1', 'https://static.foxnews.com/foxnews.com/content/uploads/2023/09/532x120-NEWSLETTER_BIZ-Rundown.png', 'https://a57.foxnews.com/static.foxbusiness.com/foxbusiness.com/content/uploads/2024/03/931/523/Nvidia-CEO-Jensen-Huang-Blackwell-GTC-2024.jpg?ve=1&tl=1', 'https://a57.foxnews.com/static.foxbusiness.com/foxbusiness.com/content/uploads/2021/05/931/523/Nurse-iStock.jpg?ve=1&tl=1', 'https://smetrics.foxbusiness.com/b/ss/%OMNITURE_ACCOUNT_ID%/1/H22.1--NS/1518822074763?pageName=technology:subsection:article&g=https://www.foxbusiness.com/technology/nvidia-announces-ai-powered-health-care-agents-outperform-nurses-cost-9-hour', 'https://sb.scorecardresearch.com/p?c1=2&c2=9013181&c3=&c4=https://www.foxbusiness.com/technology/nvidia-announces-ai-powered-health-care-agents-outperform-nurses-cost-9-hour&c5=&c6=&c15=&cv=2.2&cj=1', 'https://secure-us.imrworldwide.com/cgi-bin/m?ci=us-201978h&cg=0&cc=1&si=https://www.foxbusiness.com/technology/nvidia-announces-ai-powered-health-care-agents-outperform-nurses-cost-9-hour&ts=noscript&rnd=1518822074763', 'https://cf-images.us-east-1.prod.boltdns.net/v1/static/854081161001/a8a8885a-d3c8-4620-94f3-752fcffdcc2f/74c6e883-02d9-44a5-9543-2f54591a8775/1280x720/match/image.jpg']\n",
      "About:  Nvidia announces AI-powered health care 'agents' that outperform nurses — and cost $9 an hour  Fox Business\n",
      "URL:  https://www.foxbusiness.com/technology/nvidia-announces-ai-powered-health-care-agents-outperform-nurses-cost-9-hour\n",
      "-------------\n",
      "Title: AWS and NVIDIA extend their collaboration to advance generative AI\n",
      "Top Image: https://assets.aboutamazon.com/dims4/default/1fc2698/2147483647/strip/true/crop/1920x960+0+60/resize/1200x600!/quality/90/?url=https%3A%2F%2Famazon-blogs-brightspot.s3.amazonaws.com%2Fc3%2F69%2Fd9b3d2fd4a86acc37d98129e13cb%2Faws-nvidia-hero.jpg\n",
      "Additional Images: ['https://assets.aboutamazon.com/dims4/default/17e9ead/2147483647/strip/true/crop/1600x900+0+0/resize/480x270!/quality/90/?url=https%3A%2F%2Famazon-blogs-brightspot.s3.amazonaws.com%2Fbd%2Fbd%2F48f5a6ed47da8ea99d2d14cf054a%2Fabout-amazon-inline-02-primary-00-00-26-12-still002.jpg', 'https://assets.aboutamazon.com/dims4/default/1fc2698/2147483647/strip/true/crop/1920x960+0+60/resize/1200x600!/quality/90/?url=https%3A%2F%2Famazon-blogs-brightspot.s3.amazonaws.com%2Fc3%2F69%2Fd9b3d2fd4a86acc37d98129e13cb%2Faws-nvidia-hero.jpg', 'https://assets.aboutamazon.com/dims4/default/1af6bd7/2147483647/strip/true/crop/1996x1125+2+0/resize/1320x744!/quality/90/?url=https%3A%2F%2Famazon-blogs-brightspot.s3.amazonaws.com%2F3c%2F4d%2F62b74701440ebee9bc20c9a2a54e%2Fadobestock.png', 'https://amazon-blogs-brightspot-lower.s3.amazonaws.com/about/00/92/0260aab44ee8a2faeafde18ee1da/amazon-logo-inverse.svg', 'https://assets.aboutamazon.com/dims4/default/f70011f/2147483647/strip/true/crop/1996x1125+2+0/resize/1320x744!/quality/90/?url=https%3A%2F%2Famazon-blogs-brightspot.s3.amazonaws.com%2Fbb%2F7f%2F6a08f11b472cab067a1ae92c0c04%2Fbiden-hero-2000x1125.jpg', 'https://assets.aboutamazon.com/dims4/default/cbd29e0/2147483647/strip/true/crop/2000x1125+0+0/resize/480x270!/quality/90/?url=https%3A%2F%2Famazon-blogs-brightspot.s3.amazonaws.com%2F50%2F34%2F0f79be67450cbe6b550bd42bdc56%2Fmistral-now-avail.png', 'https://assets.aboutamazon.com/dims4/default/ddbcf8e/2147483647/strip/true/crop/2000x1125+0+0/resize/480x270!/quality/90/?url=https%3A%2F%2Famazon-blogs-brightspot.s3.amazonaws.com%2Fba%2Fc0%2F2692e47848eea96706676dfd3431%2Fdata-center2.jpg', 'https://assets.aboutamazon.com/dims4/default/12701e2/2147483647/strip/true/crop/1600x900+0+0/resize/1320x743!/quality/90/?url=https%3A%2F%2Famazon-blogs-brightspot.s3.amazonaws.com%2F99%2F19%2F052352a54a2e86db09dfec46ad4c%2Fabout-amazon-inline-riv23-d3selipsky-keynote-00403a-1.jpg', 'https://amazon-blogs-brightspot-lower.s3.amazonaws.com/about/a9/af/27a4ef844ac38129d0fa460675fb/amazon-logo.svg', 'https://assets.aboutamazon.com/dims4/default/4516138/2147483647/strip/true/crop/2000x1125+0+0/resize/480x270!/quality/90/?url=https%3A%2F%2Famazon-blogs-brightspot.s3.amazonaws.com%2F11%2F67%2Fdf7b59714a07bc289d93b0f4cf71%2Fabout-amazon-aws-update.png', 'https://assets.aboutamazon.com/dims4/default/91e51b4/2147483647/strip/true/crop/2027x1140+1+0/resize/480x270!/quality/90/?url=https%3A%2F%2Famazon-blogs-brightspot.s3.amazonaws.com%2F40%2F24%2Fc5d879184df7822739346232e32f%2Fjiil.png', 'https://assets.aboutamazon.com/dims4/default/55f902a/2147483647/strip/true/crop/2000x1125+0+0/resize/480x270!/quality/90/?url=https%3A%2F%2Famazon-blogs-brightspot.s3.amazonaws.com%2F9e%2Fbb%2F8be926634e0f8ad3656cdd9bde43%2Faa-aws-gamebasedlearning-feb2024-hero-v2-2000x1125.jpg', 'https://assets.aboutamazon.com/dims4/default/0e648ed/2147483647/strip/true/crop/1919x1080+0+0/resize/480x270!/quality/90/?url=https%3A%2F%2Famazon-blogs-brightspot.s3.amazonaws.com%2Fdc%2F03%2F1a1e54f1471f97d6741e45c27ee9%2Fmistral-large-hero-nochip.jpg', 'https://assets.aboutamazon.com/dims4/default/2700a05/2147483647/strip/true/crop/2151x1434+200+0/resize/84x56!/quality/90/?url=https%3A%2F%2Famazon-blogs-brightspot.s3.amazonaws.com%2F51%2F1c%2F678ac9284be18f6cc6d78a263d0b%2Fabout-amazon-feature-hero-001-amazon-titan-eisen-amazon111323-004.jpg', 'https://assets.aboutamazon.com/dims4/default/a0adfbc/2147483647/strip/true/crop/1600x900+0+0/resize/480x270!/quality/90/?url=https%3A%2F%2Famazon-blogs-brightspot.s3.amazonaws.com%2F16%2Fa0%2F17dbc8694f64bb6eb63e57937a3a%2Fabout-amazon-inline-riv23-d5wernerkeynote-00283a.jpg', 'https://assets.aboutamazon.com/dims4/default/b4da445/2147483647/strip/true/crop/2150x1434+0+0/resize/84x56!/quality/90/?url=https%3A%2F%2Famazon-blogs-brightspot.s3.amazonaws.com%2Fea%2Fdc%2Ffeeb9d654edb84f26ab30c13c1e8%2Fabout-amazon-feature-inline-010-amazon-drone-mk30-zsc-7764.jpg', 'https://assets.aboutamazon.com/dims4/default/9b5744e/2147483647/strip/true/crop/1688x1125+156+0/resize/84x56!/quality/90/?url=https%3A%2F%2Famazon-blogs-brightspot.s3.amazonaws.com%2F29%2F53%2Fdffc373d4c4680b12357d96333dc%2Fabout-amazon-hero-20230626-work-h2-ge-john-portrait-box-photo-asset-1.jpg', 'https://assets.aboutamazon.com/dims4/default/d571e23/2147483647/strip/true/crop/1320x743+0+0/resize/480x270!/quality/90/?url=https%3A%2F%2Famazon-blogs-brightspot.s3.amazonaws.com%2Fcd%2F18%2F4a2ab2b44a099968b03d88bf45b3%2Fshare-img-aws-intelligence-1320x743-1.jpg', 'https://assets.aboutamazon.com/dims4/default/37f3b93/2147483647/strip/true/crop/1688x1125+162+0/resize/84x56!/quality/90/?url=https%3A%2F%2Famazon-blogs-brightspot.s3.amazonaws.com%2Fe7%2F43%2F9ade06ad494c9b00fd88e5c59cc0%2Fechohub-hero-2000x1125.jpg', 'https://assets.aboutamazon.com/dims4/default/0744290/2147483647/strip/true/crop/1919x1080+1+0/resize/1240x698!/quality/90/?url=https%3A%2F%2Famazon-blogs-brightspot.s3.amazonaws.com%2Fc3%2F69%2Fd9b3d2fd4a86acc37d98129e13cb%2Faws-nvidia-hero.jpg']\n",
      "About:  AWS and NVIDIA extend their collaboration to advance generative AI  About Amazon\n",
      "URL:  https://www.aboutamazon.com/news/aws/amazon-aws-nvidia-collaboration\n",
      "-------------\n",
      "Title: NVIDIA Accelerates Quantum Computing Exploration at Australia’s Pawsey Supercomputing Centre\n",
      "Top Image: https://s3.amazonaws.com/cms.ipressroom.com/219/files/20241/65d275583d6332034387b883_quantum-computing-pawsey-press-1600x900/quantum-computing-pawsey-press-1600x900_2adb9f3a-f857-45e9-8bda-4fed5c02da8e-prv.jpg\n",
      "Additional Images: ['https://www.nvidia.com/content/dam/en-zz/Solutions/navigation/design-visualization.png', 'https://www.nvidia.com/content/dam/en-zz/Solutions/navigation/healthcare.jpg', 'https://www.nvidia.com/content/dam/en-zz/Solutions/navigation/ai-deeplearning.png', 'https://www.nvidia.com/content/dam/en-zz/Solutions/navigation/intelligent-machines.png', 'https://www.nvidia.com/content/dam/en-zz/Solutions/navigation/self-driving-cars.png', 'https://s3.amazonaws.com/cms.ipressroom.com/219/files/20241/65d275583d6332034387b883_quantum-computing-pawsey-press-1600x900/quantum-computing-pawsey-press-1600x900_mid.jpg', 'https://www.nvidia.com/content/dam/en-zz/Solutions/navigation/data-center.png', 'https://s3.amazonaws.com/cms.ipressroom.com/219/files/20242/65f8bb8e3d63321c69371a01_6g-research-cloud-image/6g-research-cloud-image_mid.jpg', 'https://s3.amazonaws.com/cms.ipressroom.com/219/files/20242/65f8bd443d633222183719f6_nvidia-ace-digital-human/nvidia-ace-digital-human_mid.png', 'https://s3.amazonaws.com/cms.ipressroom.com/219/files/20242/65f7b6be3d63321eca3719f7_google-cloud-nvidia-logos/google-cloud-nvidia-logos_mid.jpg', 'https://www.nvidia.com/content/dam/en-zz/Solutions/navigation/hpc-nvidia-mega-menu-image-hpc-188x106.jpg', 'https://s3.amazonaws.com/cms.ipressroom.com/219/files/20242/65f7dd1f3d6332467a3719f8_OCI-NVIDIA/OCI-NVIDIA_mid.jpg', 'https://s3.amazonaws.com/cms.ipressroom.com/219/files/20242/65f8bc563d633220ea3719f6_abci-image/abci-image_mid.jpg', 'https://www.nvidia.com/content/dam/en-zz/Solutions/navigation/geforce.png', 'https://news.google.com/media/themes/64d081263d633229694ae3db/fonts/icon-close.svg', 'https://s3.amazonaws.com/cms.ipressroom.com/219/files/20241/65d275583d6332034387b883_quantum-computing-pawsey-press-1600x900/quantum-computing-pawsey-press-1600x900_2adb9f3a-f857-45e9-8bda-4fed5c02da8e-prv.jpg', 'https://s3.amazonaws.com/cms.ipressroom.com/219/files/20241/65d275583d6332034387b883_quantum-computing-pawsey-press-1600x900/quantum-computing-pawsey-press-1600x900_s.jpg']\n",
      "About:  NVIDIA Accelerates Quantum Computing Exploration at Australia's Pawsey Supercomputing Centre  NVIDIA Blog\n",
      "URL:  https://nvidianews.nvidia.com/news/nvidia-accelerates-quantum-computing-exploration-at-australias-pawsey-supercomputing-centre\n",
      "-------------\n",
      "Title: NVIDIA Announces Upcoming Events for Financial Community\n",
      "Top Image: http://nvidianews.nvidia.com/media/sites/219/images/social-image.jpg\n",
      "Additional Images: ['https://www.nvidia.com/content/dam/en-zz/Solutions/navigation/design-visualization.png', 'https://www.nvidia.com/content/dam/en-zz/Solutions/navigation/healthcare.jpg', 'https://ml.globenewswire.com/media/NTYxYjIxYWQtMzFjNi00YmQ5LThjNDMtZDZkNjJjNzE4ZDk5LTEwMTg0ODU=/tiny/NVIDIA-CORPORATION.png', 'https://www.nvidia.com/content/dam/en-zz/Solutions/navigation/ai-deeplearning.png', 'https://www.nvidia.com/content/dam/en-zz/Solutions/navigation/intelligent-machines.png', 'https://www.nvidia.com/content/dam/en-zz/Solutions/navigation/self-driving-cars.png', 'https://s3.amazonaws.com/cms.ipressroom.com/219/files/20242/65f8bb8e3d63321c69371a01_6g-research-cloud-image/6g-research-cloud-image_mid.jpg', 'https://s3.amazonaws.com/cms.ipressroom.com/219/files/20242/65f8bc563d633220ea3719f6_abci-image/abci-image_mid.jpg', 'https://s3.amazonaws.com/cms.ipressroom.com/219/files/20242/65f8bd443d633222183719f6_nvidia-ace-digital-human/nvidia-ace-digital-human_mid.png', 'https://s3.amazonaws.com/cms.ipressroom.com/219/files/20242/65f7b6be3d63321eca3719f7_google-cloud-nvidia-logos/google-cloud-nvidia-logos_mid.jpg', 'https://www.nvidia.com/content/dam/en-zz/Solutions/navigation/hpc-nvidia-mega-menu-image-hpc-188x106.jpg', 'https://s3.amazonaws.com/cms.ipressroom.com/219/files/20242/65f7dd1f3d6332467a3719f8_OCI-NVIDIA/OCI-NVIDIA_mid.jpg', 'http://nvidianews.nvidia.com/media/sites/219/images/social-image.jpg', 'https://www.nvidia.com/content/dam/en-zz/Solutions/navigation/geforce.png', 'https://news.google.com/media/themes/64d081263d633229694ae3db/fonts/icon-close.svg', 'https://www.nvidia.com/content/dam/en-zz/Solutions/navigation/data-center.png']\n",
      "About:  NVIDIA Announces Upcoming Events for Financial Community  NVIDIA Blog\n",
      "URL:  https://nvidianews.nvidia.com/news/nvidia-announces-upcoming-events-for-financial-community-6900012\n",
      "-------------\n",
      "Title: CrowdStrike and NVIDIA Generative AI Collaboration\n",
      "Top Image: https://www.crowdstrike.com/wp-content/uploads/2024/03/crwd-nvidia-pr.png\n",
      "Additional Images: ['https://www.crowdstrike.com/wp-content/uploads/2024/03/crwd-nvidia-pr.png']\n",
      "About:  CrowdStrike and NVIDIA Generative AI Collaboration  CrowdStrike\n",
      "URL:  https://www.crowdstrike.com/press-releases/crowdstrike-nvidia-generative-ai-collaboration/\n",
      "-------------\n",
      "Title: Georgia Tech Unveils New AI Makerspace in Collaboration with NVIDIA\n",
      "Top Image: https://coe.gatech.edu/sites/default/files/styles/gtcoe_card/public/news/2024/04/header/ai-makerspace-nvidia-8655-t.jpg?itok=uTifPt4a\n",
      "Additional Images: ['https://news.google.com/themes/contrib/gt_theme/logo.svg', 'https://news.google.com/sites/default/files/styles/gtcoe_wide/public/2024-04/ai-makerspace-computers-people.jpg?itok=xOwKN3Lb', 'https://coe.gatech.edu/sites/default/files/styles/gtcoe_card/public/news/2024/04/header/ai-makerspace-nvidia-8655-t.jpg?itok=uTifPt4a', 'https://news.google.com/sites/default/files/styles/gtcoe_card/public/card/2024/04/ECE-Computer-Vision-Course_thumb.jpg?itok=Xg2QpEcf', 'https://news.google.com/sites/default/files/styles/gtcoe_card/public/card/2024/04/Karen-Feigh-AE-8919_0.jpg?itok=CTJOaz7k', 'https://news.google.com/sites/default/files/styles/gtcoe_wide/public/2024-04/leaders-ai-makerspace_0.jpg?itok=wBhSS7ZZ', 'https://coe.gatech.edu/modules/contrib/gt_tools/images/gt-logo.svg', 'https://news.google.com/sites/default/files/styles/gtcoe_wide/public/2024-04/AI-makerspace-header.jpg?itok=M1J-wdsn']\n",
      "About:  Georgia Tech Unveils New AI Makerspace in Collaboration with NVIDIA  Georgia Tech College of Engineering\n",
      "URL:  https://coe.gatech.edu/news/2024/04/georgia-tech-unveils-new-ai-makerspace-collaboration-nvidia\n",
      "-------------\n",
      "Title: Microsoft and NVIDIA continue to deliver on the promise of AI\n",
      "Top Image: https://azure.microsoft.com/en-us/blog/wp-content/uploads/2024/03/AzureInfra.jpg\n",
      "Additional Images: ['https://azurecomcdn.azureedge.net/cvt-f9c565bd8058d1b3bb1140c1e881fd6daf2e4bad9cb6ecdedab6d87f81c7810e/svg/azure-spring-cloud.svg', 'https://azurecomcdn.azureedge.net/cvt-f9c565bd8058d1b3bb1140c1e881fd6daf2e4bad9cb6ecdedab6d87f81c7810e/svg/cosmos-db.svg', 'https://azurecomcdn.azureedge.net/cvt-f9c565bd8058d1b3bb1140c1e881fd6daf2e4bad9cb6ecdedab6d87f81c7810e/svg/iot-operations.svg', 'https://azurecomcdn.azureedge.net/cvt-f9c565bd8058d1b3bb1140c1e881fd6daf2e4bad9cb6ecdedab6d87f81c7810e/svg/active-directory-external-identities.svg', 'https://azurecomcdn.azureedge.net/cvt-f9c565bd8058d1b3bb1140c1e881fd6daf2e4bad9cb6ecdedab6d87f81c7810e/svg/notification-hubs.svg', 'https://azurecomcdn.azureedge.net/cvt-f9c565bd8058d1b3bb1140c1e881fd6daf2e4bad9cb6ecdedab6d87f81c7810e/svg/azure-sql-database.svg', 'https://azurecomcdn.azureedge.net/cvt-f9c565bd8058d1b3bb1140c1e881fd6daf2e4bad9cb6ecdedab6d87f81c7810e/svg/iot-hub.svg', 'https://azurecomcdn.azureedge.net/cvt-f9c565bd8058d1b3bb1140c1e881fd6daf2e4bad9cb6ecdedab6d87f81c7810e/svg/backup.svg', 'https://azurecomcdn.azureedge.net/cvt-f9c565bd8058d1b3bb1140c1e881fd6daf2e4bad9cb6ecdedab6d87f81c7810e/svg/web-application-firewall.svg', 'https://azurecomcdn.azureedge.net/cvt-f9c565bd8058d1b3bb1140c1e881fd6daf2e4bad9cb6ecdedab6d87f81c7810e/svg/kubernetes-service.svg', 'https://azurecomcdn.azureedge.net/cvt-f9c565bd8058d1b3bb1140c1e881fd6daf2e4bad9cb6ecdedab6d87f81c7810e/svg/azure-artifacts.svg', 'https://azurecomcdn.azureedge.net/cvt-f9c565bd8058d1b3bb1140c1e881fd6daf2e4bad9cb6ecdedab6d87f81c7810e/svg/azure-maps.svg', 'https://azurecomcdn.azureedge.net/cvt-f9c565bd8058d1b3bb1140c1e881fd6daf2e4bad9cb6ecdedab6d87f81c7810e/svg/azure-sql.svg', 'https://azurecomcdn.azureedge.net/cvt-f9c565bd8058d1b3bb1140c1e881fd6daf2e4bad9cb6ecdedab6d87f81c7810e/svg/active-directory-ds.svg', 'https://azurecomcdn.azureedge.net/cvt-f9c565bd8058d1b3bb1140c1e881fd6daf2e4bad9cb6ecdedab6d87f81c7810e/svg/cdn.svg', 'https://azurecomcdn.azureedge.net/cvt-f9c565bd8058d1b3bb1140c1e881fd6daf2e4bad9cb6ecdedab6d87f81c7810e/svg/visual-studio.svg', 'https://azurecomcdn.azureedge.net/cvt-f9c565bd8058d1b3bb1140c1e881fd6daf2e4bad9cb6ecdedab6d87f81c7810e/svg/app-center.svg', 'https://azurecomcdn.azureedge.net/cvt-f9c565bd8058d1b3bb1140c1e881fd6daf2e4bad9cb6ecdedab6d87f81c7810e/svg/azure.svg', 'https://azurecomcdn.azureedge.net/cvt-f9c565bd8058d1b3bb1140c1e881fd6daf2e4bad9cb6ecdedab6d87f81c7810e/svg/app-service-web.svg', 'https://azurecomcdn.azureedge.net/cvt-f9c565bd8058d1b3bb1140c1e881fd6daf2e4bad9cb6ecdedab6d87f81c7810e/svg/mariadb.svg', 'https://azurecomcdn.azureedge.net/cvt-f9c565bd8058d1b3bb1140c1e881fd6daf2e4bad9cb6ecdedab6d87f81c7810e/svg/container-registry.svg', 'https://azurecomcdn.azureedge.net/cvt-f9c565bd8058d1b3bb1140c1e881fd6daf2e4bad9cb6ecdedab6d87f81c7810e/svg/data-factory.svg', 'https://azurecomcdn.azureedge.net/cvt-f9c565bd8058d1b3bb1140c1e881fd6daf2e4bad9cb6ecdedab6d87f81c7810e/svg/event-grid.svg', 'https://azurecomcdn.azureedge.net/cvt-f9c565bd8058d1b3bb1140c1e881fd6daf2e4bad9cb6ecdedab6d87f81c7810e/svg/ai-studio.svg', 'https://azurecomcdn.azureedge.net/cvt-f9c565bd8058d1b3bb1140c1e881fd6daf2e4bad9cb6ecdedab6d87f81c7810e/svg/azure-rtos.svg', 'https://azurecomcdn.azureedge.net/cvt-f9c565bd8058d1b3bb1140c1e881fd6daf2e4bad9cb6ecdedab6d87f81c7810e/svg/application-gateway.svg', 'https://azurecomcdn.azureedge.net/cvt-f9c565bd8058d1b3bb1140c1e881fd6daf2e4bad9cb6ecdedab6d87f81c7810e/svg/video-indexer02.svg', 'https://azurecomcdn.azureedge.net/cvt-f9c565bd8058d1b3bb1140c1e881fd6daf2e4bad9cb6ecdedab6d87f81c7810e/svg/chaos-studio.svg', 'https://azurecomcdn.azureedge.net/cvt-f9c565bd8058d1b3bb1140c1e881fd6daf2e4bad9cb6ecdedab6d87f81c7810e/svg/frontdoor.svg', 'https://azurecomcdn.azureedge.net/cvt-f9c565bd8058d1b3bb1140c1e881fd6daf2e4bad9cb6ecdedab6d87f81c7810e/svg/azure-stack.svg', 'https://azurecomcdn.azureedge.net/cvt-f9c565bd8058d1b3bb1140c1e881fd6daf2e4bad9cb6ecdedab6d87f81c7810e/svg/netapp.svg', 'https://azurecomcdn.azureedge.net/cvt-f9c565bd8058d1b3bb1140c1e881fd6daf2e4bad9cb6ecdedab6d87f81c7810e/svg/container-instances.svg', 'https://azurecomcdn.azureedge.net/cvt-f9c565bd8058d1b3bb1140c1e881fd6daf2e4bad9cb6ecdedab6d87f81c7810e/svg/signalr-service.svg', 'https://azurecomcdn.azureedge.net/cvt-f9c565bd8058d1b3bb1140c1e881fd6daf2e4bad9cb6ecdedab6d87f81c7810e/svg/storage-files.svg', 'https://azurecomcdn.azureedge.net/cvt-f9c565bd8058d1b3bb1140c1e881fd6daf2e4bad9cb6ecdedab6d87f81c7810e/svg/openshift.svg', 'https://azurecomcdn.azureedge.net/cvt-f9c565bd8058d1b3bb1140c1e881fd6daf2e4bad9cb6ecdedab6d87f81c7810e/svg/key-vault.svg', 'https://azurecomcdn.azureedge.net/cvt-f9c565bd8058d1b3bb1140c1e881fd6daf2e4bad9cb6ecdedab6d87f81c7810e/svg/content-moderator.svg', 'https://azurecomcdn.azureedge.net/cvt-f9c565bd8058d1b3bb1140c1e881fd6daf2e4bad9cb6ecdedab6d87f81c7810e/svg/web-pubsub.svg', 'https://azurecomcdn.azureedge.net/cvt-f9c565bd8058d1b3bb1140c1e881fd6daf2e4bad9cb6ecdedab6d87f81c7810e/svg/form-recognizer.svg', 'https://azurecomcdn.azureedge.net/cvt-f9c565bd8058d1b3bb1140c1e881fd6daf2e4bad9cb6ecdedab6d87f81c7810e/svg/analysis-services.svg', 'https://azurecomcdn.azureedge.net/cvt-f9c565bd8058d1b3bb1140c1e881fd6daf2e4bad9cb6ecdedab6d87f81c7810e/svg/virtual-machine-scale-sets.svg', 'https://azurecomcdn.azureedge.net/cvt-f9c565bd8058d1b3bb1140c1e881fd6daf2e4bad9cb6ecdedab6d87f81c7810e/svg/search.svg', 'https://azure.microsoft.com/en-us/blog/wp-content/uploads/2024/03/Still_AzureAI_16x9_4K_1260-1024x576.webp', 'https://azurecomcdn.azureedge.net/cvt-f9c565bd8058d1b3bb1140c1e881fd6daf2e4bad9cb6ecdedab6d87f81c7810e/svg/azure-sentinel.svg', 'https://azurecomcdn.azureedge.net/cvt-f9c565bd8058d1b3bb1140c1e881fd6daf2e4bad9cb6ecdedab6d87f81c7810e/svg/speech-api.svg', 'https://azurecomcdn.azureedge.net/cvt-f9c565bd8058d1b3bb1140c1e881fd6daf2e4bad9cb6ecdedab6d87f81c7810e/svg/private-link.svg', 'https://azurecomcdn.azureedge.net/cvt-f9c565bd8058d1b3bb1140c1e881fd6daf2e4bad9cb6ecdedab6d87f81c7810e/svg/api-management.svg', 'https://azure.microsoft.com/en-us/blog/wp-content/uploads/2024/03/Still_AzurePortfolioStack_16x9_4K_900.webp', 'https://azurecomcdn.azureedge.net/cvt-f9c565bd8058d1b3bb1140c1e881fd6daf2e4bad9cb6ecdedab6d87f81c7810e/svg/dns.svg', 'https://azurecomcdn.azureedge.net/cvt-f9c565bd8058d1b3bb1140c1e881fd6daf2e4bad9cb6ecdedab6d87f81c7810e/svg/service-fabric.svg', 'https://azurecomcdn.azureedge.net/cvt-f9c565bd8058d1b3bb1140c1e881fd6daf2e4bad9cb6ecdedab6d87f81c7810e/svg/media-protection.svg', 'https://azurecomcdn.azureedge.net/cvt-f9c565bd8058d1b3bb1140c1e881fd6daf2e4bad9cb6ecdedab6d87f81c7810e/svg/virtual-wan.svg', 'https://azurecomcdn.azureedge.net/cvt-f9c565bd8058d1b3bb1140c1e881fd6daf2e4bad9cb6ecdedab6d87f81c7810e/svg/azure-arc.svg', 'https://azurecomcdn.azureedge.net/cvt-f9c565bd8058d1b3bb1140c1e881fd6daf2e4bad9cb6ecdedab6d87f81c7810e/svg/azure-sphere.svg', 'https://azurecomcdn.azureedge.net/cvt-f9c565bd8058d1b3bb1140c1e881fd6daf2e4bad9cb6ecdedab6d87f81c7810e/svg/virtual-machines.svg', 'https://azurecomcdn.azureedge.net/cvt-f9c565bd8058d1b3bb1140c1e881fd6daf2e4bad9cb6ecdedab6d87f81c7810e/svg/storage-blobs.svg', 'https://azurecomcdn.azureedge.net/cvt-f9c565bd8058d1b3bb1140c1e881fd6daf2e4bad9cb6ecdedab6d87f81c7810e/svg/app-service-logic.svg', 'https://azurecomcdn.azureedge.net/cvt-f9c565bd8058d1b3bb1140c1e881fd6daf2e4bad9cb6ecdedab6d87f81c7810e/svg/azure-boards.svg', 'https://azurecomcdn.azureedge.net/cvt-f9c565bd8058d1b3bb1140c1e881fd6daf2e4bad9cb6ecdedab6d87f81c7810e/svg/monitor.svg', 'https://azurecomcdn.azureedge.net/cvt-f9c565bd8058d1b3bb1140c1e881fd6daf2e4bad9cb6ecdedab6d87f81c7810e/svg/quantum.svg', 'https://azurecomcdn.azureedge.net/cvt-f9c565bd8058d1b3bb1140c1e881fd6daf2e4bad9cb6ecdedab6d87f81c7810e/svg/copilot.svg', 'https://azurecomcdn.azureedge.net/cvt-f9c565bd8058d1b3bb1140c1e881fd6daf2e4bad9cb6ecdedab6d87f81c7810e/svg/stream-analytics.svg', 'https://azurecomcdn.azureedge.net/cvt-f9c565bd8058d1b3bb1140c1e881fd6daf2e4bad9cb6ecdedab6d87f81c7810e/svg/databricks.svg', 'https://azurecomcdn.azureedge.net/cvt-f9c565bd8058d1b3bb1140c1e881fd6daf2e4bad9cb6ecdedab6d87f81c7810e/svg/advisor.svg', 'https://azurecomcdn.azureedge.net/cvt-f9c565bd8058d1b3bb1140c1e881fd6daf2e4bad9cb6ecdedab6d87f81c7810e/svg/site-recovery.svg', 'https://azurecomcdn.azureedge.net/cvt-f9c565bd8058d1b3bb1140c1e881fd6daf2e4bad9cb6ecdedab6d87f81c7810e/svg/virtual-network.svg', 'https://azurecomcdn.azureedge.net/cvt-f9c565bd8058d1b3bb1140c1e881fd6daf2e4bad9cb6ecdedab6d87f81c7810e/svg/cost-management.svg', 'https://azurecomcdn.azureedge.net/cvt-f9c565bd8058d1b3bb1140c1e881fd6daf2e4bad9cb6ecdedab6d87f81c7810e/svg/mysql.svg', 'https://azurecomcdn.azureedge.net/cvt-f9c565bd8058d1b3bb1140c1e881fd6daf2e4bad9cb6ecdedab6d87f81c7810e/svg/database-migration.svg', 'https://azurecomcdn.azureedge.net/cvt-f9c565bd8058d1b3bb1140c1e881fd6daf2e4bad9cb6ecdedab6d87f81c7810e/svg/synapse-analytics.svg', 'https://azurecomcdn.azureedge.net/cvt-f9c565bd8058d1b3bb1140c1e881fd6daf2e4bad9cb6ecdedab6d87f81c7810e/svg/playfab.svg', 'https://azurecomcdn.azureedge.net/cvt-f9c565bd8058d1b3bb1140c1e881fd6daf2e4bad9cb6ecdedab6d87f81c7810e/svg/apache-cassandra.svg', 'https://azurecomcdn.azureedge.net/cvt-f9c565bd8058d1b3bb1140c1e881fd6daf2e4bad9cb6ecdedab6d87f81c7810e/svg/azure-communication-services.svg', 'https://azurecomcdn.azureedge.net/cvt-f9c565bd8058d1b3bb1140c1e881fd6daf2e4bad9cb6ecdedab6d87f81c7810e/svg/app-service.svg', 'https://azurecomcdn.azureedge.net/cvt-f9c565bd8058d1b3bb1140c1e881fd6daf2e4bad9cb6ecdedab6d87f81c7810e/svg/azure-policy.svg', 'https://azurecomcdn.azureedge.net/cvt-f9c565bd8058d1b3bb1140c1e881fd6daf2e4bad9cb6ecdedab6d87f81c7810e/svg/active-directory.svg', 'https://azurecomcdn.azureedge.net/cvt-f9c565bd8058d1b3bb1140c1e881fd6daf2e4bad9cb6ecdedab6d87f81c7810e/svg/lab-services.svg', 'https://azurecomcdn.azureedge.net/cvt-f9c565bd8058d1b3bb1140c1e881fd6daf2e4bad9cb6ecdedab6d87f81c7810e/svg/azure-devops.svg', 'https://azurecomcdn.azureedge.net/cvt-f9c565bd8058d1b3bb1140c1e881fd6daf2e4bad9cb6ecdedab6d87f81c7810e/svg/azure-migrate.svg', 'https://azurecomcdn.azureedge.net/cvt-f9c565bd8058d1b3bb1140c1e881fd6daf2e4bad9cb6ecdedab6d87f81c7810e/svg/virtual-desktop.svg', 'https://azurecomcdn.azureedge.net/cvt-f9c565bd8058d1b3bb1140c1e881fd6daf2e4bad9cb6ecdedab6d87f81c7810e/svg/archive-storage.svg', 'https://azurecomcdn.azureedge.net/cvt-f9c565bd8058d1b3bb1140c1e881fd6daf2e4bad9cb6ecdedab6d87f81c7810e/svg/disks.svg', 'https://azurecomcdn.azureedge.net/cvt-f9c565bd8058d1b3bb1140c1e881fd6daf2e4bad9cb6ecdedab6d87f81c7810e/svg/cloud-shell.svg', 'https://azurecomcdn.azureedge.net/cvt-f9c565bd8058d1b3bb1140c1e881fd6daf2e4bad9cb6ecdedab6d87f81c7810e/svg/xamarin.svg', 'https://azurecomcdn.azureedge.net/cvt-f9c565bd8058d1b3bb1140c1e881fd6daf2e4bad9cb6ecdedab6d87f81c7810e/svg/app-service-static.svg', 'https://azurecomcdn.azureedge.net/cvt-f9c565bd8058d1b3bb1140c1e881fd6daf2e4bad9cb6ecdedab6d87f81c7810e/svg/load-testing.svg', 'https://azurecomcdn.azureedge.net/cvt-f9c565bd8058d1b3bb1140c1e881fd6daf2e4bad9cb6ecdedab6d87f81c7810e/svg/hdinsight.svg', 'https://azurecomcdn.azureedge.net/cvt-f9c565bd8058d1b3bb1140c1e881fd6daf2e4bad9cb6ecdedab6d87f81c7810e/svg/container-apps.svg', 'https://azurecomcdn.azureedge.net/cvt-f9c565bd8058d1b3bb1140c1e881fd6daf2e4bad9cb6ecdedab6d87f81c7810e/svg/iot-edge.svg', 'https://azurecomcdn.azureedge.net/cvt-f9c565bd8058d1b3bb1140c1e881fd6daf2e4bad9cb6ecdedab6d87f81c7810e/svg/sdk.svg', 'https://azurecomcdn.azureedge.net/cvt-f9c565bd8058d1b3bb1140c1e881fd6daf2e4bad9cb6ecdedab6d87f81c7810e/svg/vpn-gateway.svg', 'https://azurecomcdn.azureedge.net/cvt-f9c565bd8058d1b3bb1140c1e881fd6daf2e4bad9cb6ecdedab6d87f81c7810e/svg/media-encoding.svg', 'https://azurecomcdn.azureedge.net/cvt-f9c565bd8058d1b3bb1140c1e881fd6daf2e4bad9cb6ecdedab6d87f81c7810e/svg/ddos-protection.svg', 'https://azurecomcdn.azureedge.net/cvt-f9c565bd8058d1b3bb1140c1e881fd6daf2e4bad9cb6ecdedab6d87f81c7810e/svg/media-ondemand.svg', 'https://azurecomcdn.azureedge.net/cvt-f9c565bd8058d1b3bb1140c1e881fd6daf2e4bad9cb6ecdedab6d87f81c7810e/svg/azure-bastion.svg', 'https://azurecomcdn.azureedge.net/cvt-f9c565bd8058d1b3bb1140c1e881fd6daf2e4bad9cb6ecdedab6d87f81c7810e/svg/cache.svg', 'https://azurecomcdn.azureedge.net/cvt-f9c565bd8058d1b3bb1140c1e881fd6daf2e4bad9cb6ecdedab6d87f81c7810e/svg/fluid-relay.svg', 'https://azurecomcdn.azureedge.net/cvt-f9c565bd8058d1b3bb1140c1e881fd6daf2e4bad9cb6ecdedab6d87f81c7810e/svg/media-services.svg', 'https://azurecomcdn.azureedge.net/cvt-f9c565bd8058d1b3bb1140c1e881fd6daf2e4bad9cb6ecdedab6d87f81c7810e/svg/azure-firewall.svg', 'https://azurecomcdn.azureedge.net/cvt-f9c565bd8058d1b3bb1140c1e881fd6daf2e4bad9cb6ecdedab6d87f81c7810e/svg/remote-rendering.svg', 'https://azurecomcdn.azureedge.net/cvt-f9c565bd8058d1b3bb1140c1e881fd6daf2e4bad9cb6ecdedab6d87f81c7810e/svg/expressroute.svg', 'https://azurecomcdn.azureedge.net/cvt-f9c565bd8058d1b3bb1140c1e881fd6daf2e4bad9cb6ecdedab6d87f81c7810e/svg/media-player.svg', 'https://azurecomcdn.azureedge.net/cvt-f9c565bd8058d1b3bb1140c1e881fd6daf2e4bad9cb6ecdedab6d87f81c7810e/svg/postgresql.svg', 'https://azurecomcdn.azureedge.net/cvt-f9c565bd8058d1b3bb1140c1e881fd6daf2e4bad9cb6ecdedab6d87f81c7810e/svg/azure-test-plans.svg', 'https://azurecomcdn.azureedge.net/cvt-f9c565bd8058d1b3bb1140c1e881fd6daf2e4bad9cb6ecdedab6d87f81c7810e/svg/service-bus.svg', 'https://azurecomcdn.azureedge.net/cvt-f9c565bd8058d1b3bb1140c1e881fd6daf2e4bad9cb6ecdedab6d87f81c7810e/svg/functions.svg', 'https://azurecomcdn.azureedge.net/cvt-f9c565bd8058d1b3bb1140c1e881fd6daf2e4bad9cb6ecdedab6d87f81c7810e/svg/powerapps.svg', 'https://azurecomcdn.azureedge.net/cvt-f9c565bd8058d1b3bb1140c1e881fd6daf2e4bad9cb6ecdedab6d87f81c7810e/svg/app-service-containers.svg', 'https://azurecomcdn.azureedge.net/cvt-f9c565bd8058d1b3bb1140c1e881fd6daf2e4bad9cb6ecdedab6d87f81c7810e/svg/translator-apis.svg', 'https://azurecomcdn.azureedge.net/cvt-f9c565bd8058d1b3bb1140c1e881fd6daf2e4bad9cb6ecdedab6d87f81c7810e/svg/purview.svg', 'https://azurecomcdn.azureedge.net/cvt-f9c565bd8058d1b3bb1140c1e881fd6daf2e4bad9cb6ecdedab6d87f81c7810e/svg/azure-repos.svg', 'https://azurecomcdn.azureedge.net/cvt-f9c565bd8058d1b3bb1140c1e881fd6daf2e4bad9cb6ecdedab6d87f81c7810e/svg/microsoft-fabric.svg', 'https://azurecomcdn.azureedge.net/cvt-f9c565bd8058d1b3bb1140c1e881fd6daf2e4bad9cb6ecdedab6d87f81c7810e/svg/dev-box.svg', 'https://azure.microsoft.com/en-us/blog/wp-content/uploads/2024/03/AzureInfra.jpg', 'https://azurecomcdn.azureedge.net/cvt-f9c565bd8058d1b3bb1140c1e881fd6daf2e4bad9cb6ecdedab6d87f81c7810e/svg/iot-central.svg', 'https://azurecomcdn.azureedge.net/cvt-f9c565bd8058d1b3bb1140c1e881fd6daf2e4bad9cb6ecdedab6d87f81c7810e/svg/digital-twins.svg', 'https://azurecomcdn.azureedge.net/cvt-f9c565bd8058d1b3bb1140c1e881fd6daf2e4bad9cb6ecdedab6d87f81c7810e/svg/load-balancer.svg', 'https://azurecomcdn.azureedge.net/cvt-f9c565bd8058d1b3bb1140c1e881fd6daf2e4bad9cb6ecdedab6d87f81c7810e/svg/cognitive-services.svg', 'https://azurecomcdn.azureedge.net/cvt-f9c565bd8058d1b3bb1140c1e881fd6daf2e4bad9cb6ecdedab6d87f81c7810e/svg/machine-learning-service.svg', 'https://azurecomcdn.azureedge.net/cvt-f9c565bd8058d1b3bb1140c1e881fd6daf2e4bad9cb6ecdedab6d87f81c7810e/svg/databox.svg', 'https://azurecomcdn.azureedge.net/cvt-f9c565bd8058d1b3bb1140c1e881fd6daf2e4bad9cb6ecdedab6d87f81c7810e/svg/devtest-lab.svg', 'https://azurecomcdn.azureedge.net/cvt-f9c565bd8058d1b3bb1140c1e881fd6daf2e4bad9cb6ecdedab6d87f81c7810e/svg/batch.svg', 'https://azurecomcdn.azureedge.net/cvt-f9c565bd8058d1b3bb1140c1e881fd6daf2e4bad9cb6ecdedab6d87f81c7810e/svg/energy-data-services.svg', 'https://azurecomcdn.azureedge.net/cvt-f9c565bd8058d1b3bb1140c1e881fd6daf2e4bad9cb6ecdedab6d87f81c7810e/svg/data-explorer.svg', 'https://azurecomcdn.azureedge.net/cvt-f9c565bd8058d1b3bb1140c1e881fd6daf2e4bad9cb6ecdedab6d87f81c7810e/svg/azure-pipelines.svg', 'https://azurecomcdn.azureedge.net/cvt-f9c565bd8058d1b3bb1140c1e881fd6daf2e4bad9cb6ecdedab6d87f81c7810e/svg/azure-sql-managed-instance.svg', 'https://azurecomcdn.azureedge.net/cvt-f9c565bd8058d1b3bb1140c1e881fd6daf2e4bad9cb6ecdedab6d87f81c7810e/svg/microsoft-copilot-for-security.svg', 'https://azurecomcdn.azureedge.net/cvt-f9c565bd8058d1b3bb1140c1e881fd6daf2e4bad9cb6ecdedab6d87f81c7810e/svg/visual-studio-code.svg']\n",
      "About:  Microsoft and NVIDIA continue to deliver on the promise of AI  Microsoft\n",
      "URL:  https://azure.microsoft.com/en-us/blog/microsoft-and-nvidia-partnership-continues-to-deliver-on-the-promise-of-ai/\n",
      "-------------\n",
      "Title: Nvidia Unveils Blackwell, Its Next GPU\n",
      "Top Image: https://spectrum.ieee.org/media-library/a-gold-rimmed-black-square-shown-at-an-angle-occupying-most-of-the-center-are-gold-and-green-and-purple-patterned-rectangles.jpg?id=51762113&width=1200&height=600&coordinates=0%2C60%2C0%2C60\n",
      "Additional Images: [\"data:image/svg+xml,%3Csvg%20xmlns='http://www.w3.org/2000/svg'%20viewBox='0%200%201920%201080'%3E%3C/svg%3E\", \"data:image/svg+xml,%3Csvg xmlns='http://www.w3.org/2000/svg' viewBox='0 0 1800 1200'%3E%3C/svg%3E\", \"data:image/svg+xml,%3Csvg xmlns='http://www.w3.org/2000/svg' viewBox='0 0 1517 517'%3E%3C/svg%3E\", \"data:image/svg+xml,%3Csvg xmlns='http://www.w3.org/2000/svg' viewBox='0 0 800 450'%3E%3C/svg%3E\", 'https://spectrum.ieee.org/media-library/a-gold-rimmed-black-square-shown-at-an-angle-occupying-most-of-the-center-are-gold-and-green-and-purple-patterned-rectangles.jpg?id=51762113&width=1200&height=600&coordinates=0%2C60%2C0%2C60', 'https://spectrum.ieee.org/media-library/a-gold-rimmed-black-square-shown-at-an-angle-occupying-most-of-the-center-are-gold-and-green-and-purple-patterned-rectangles.jpg?id=51762113&width=1200&height=675']\n",
      "About:  Nvidia Unveils Blackwell, Its Next GPU  IEEE Spectrum\n",
      "URL:  https://spectrum.ieee.org/nvidia-blackwell\n",
      "-------------\n",
      "Title: NVIDIA and HP Supercharge Data Science and Generative AI on Workstations\n",
      "Top Image: https://s3.amazonaws.com/cms.ipressroom.com/219/files/20242/65ea03f33d6332cd2cb28c43_NVIDIA-HP-logos/NVIDIA-HP-logos_646c45ad-9bec-4930-8be9-ac1165cf5373-prv.jpg\n",
      "Additional Images: ['https://www.nvidia.com/content/dam/en-zz/Solutions/navigation/design-visualization.png', 'https://www.nvidia.com/content/dam/en-zz/Solutions/navigation/healthcare.jpg', 'https://www.nvidia.com/content/dam/en-zz/Solutions/navigation/ai-deeplearning.png', 'https://www.nvidia.com/content/dam/en-zz/Solutions/navigation/hpc-nvidia-mega-menu-image-hpc-188x106.jpg', 'https://www.nvidia.com/content/dam/en-zz/Solutions/navigation/intelligent-machines.png', 'https://s3.amazonaws.com/cms.ipressroom.com/219/files/20241/65d275583d6332034387b883_quantum-computing-pawsey-press-1600x900/quantum-computing-pawsey-press-1600x900_mid.jpg', 'https://www.nvidia.com/content/dam/en-zz/Solutions/navigation/self-driving-cars.png', 'https://s3.amazonaws.com/cms.ipressroom.com/219/files/20242/65ea03f33d6332cd2cb28c43_NVIDIA-HP-logos/NVIDIA-HP-logos_646c45ad-9bec-4930-8be9-ac1165cf5373-prv.jpg', 'https://s3.amazonaws.com/cms.ipressroom.com/219/files/20241/65de7e603d6332ef40827b44_servicenow-hugging-face-nvidia/servicenow-hugging-face-nvidia_mid.jpg', 'https://s3.amazonaws.com/cms.ipressroom.com/219/files/20242/65ea03f33d6332cd2cb28c43_NVIDIA-HP-logos/NVIDIA-HP-logos_s.jpg', 'https://s3.amazonaws.com/cms.ipressroom.com/219/files/20224/6296531eb3aed3741918b6b5_DH1L4415-HDR-20220527-r5/DH1L4415-HDR-20220527-r5_mid.jpg', 'https://s3.amazonaws.com/cms.ipressroom.com/219/files/20241/65d4cd6d3d6332bde350a3d2_Jensen+Huang-GTC+2024/Jensen+Huang-GTC+2024_mid.jpg', 'https://www.nvidia.com/content/dam/en-zz/Solutions/navigation/geforce.png', 'https://s3.amazonaws.com/cms.ipressroom.com/219/files/20242/65ea03f33d6332cd2cb28c43_NVIDIA-HP-logos/NVIDIA-HP-logos_mid.jpg', 'https://news.google.com/media/themes/64d081263d633229694ae3db/images/NVIDIA-logo-BL.jpg', 'https://news.google.com/media/themes/64d081263d633229694ae3db/fonts/icon-close.svg', 'https://www.nvidia.com/content/dam/en-zz/Solutions/navigation/data-center.png']\n",
      "About:  NVIDIA and HP Supercharge Data Science and Generative AI on Workstations  NVIDIA Blog\n",
      "URL:  https://nvidianews.nvidia.com/news/nvidia-hp-supercharge-data-science-generative-ai-workstations\n",
      "-------------\n",
      "Title: Nvidia is sued by authors over AI use of copyrighted works - Reuters\n",
      "Top Image: https://www.reuters.com/technology/nvidia-is-sued-by-authors-over-ai-use-copyrighted-works-2024-03-10//favicon.ico\n",
      "Additional Images: []\n",
      "About:  Nvidia is sued by authors over AI use of copyrighted works  Reuters\n",
      "URL:  https://www.reuters.com/technology/nvidia-is-sued-by-authors-over-ai-use-copyrighted-works-2024-03-10/\n",
      "-------------\n"
     ]
    }
   ],
   "source": [
    "data = response.json()\n",
    "news_list = None\n",
    "\n",
    "if 'news' in data:\n",
    "    news_list = data['news']\n",
    "    for news_item in news_list:\n",
    "        title = news_item['title']\n",
    "        top_image = news_item.get('top_image', 'No top image found')\n",
    "        images = news_item.get('images', [])\n",
    "        about = news_item.get('short_description')\n",
    "        url = news_item.get('url')\n",
    "        text = news_item.get('text')\n",
    "\n",
    "        print(\"Title:\", title)\n",
    "        print(\"Top Image:\", top_image)\n",
    "        print(\"Additional Images:\", images)\n",
    "        print(\"About: \", about)\n",
    "        print(\"URL: \", url)\n",
    "        # print(\"TXT: \", text)\n",
    "        print(\"-------------\")\n",
    "else:\n",
    "    print(\"No news found in the response.\")"
   ]
  },
  {
   "cell_type": "markdown",
   "metadata": {},
   "source": [
    "## Analysis Method <br>\n",
    "1: (outer level) feed paragraphs <br>\n",
    "2: (inner level) feed sentences within a paragaph -> return polarity/compound of each sentence (make a list) <br>\n",
    "3: average the polarity of sentences within the paragaph -> returns sentiment of the paragaph  <br>\n",
    "4: average the polarity of paragraphs within the documnet -> returns sentiment of the document <br>\n",
    "5: make threshold for selling and buying by analyzing compound/polarity ex: if 0.8 -> buy if -0.6 sell -0.3<->0.3 retain <br>\n"
   ]
  },
  {
   "cell_type": "code",
   "execution_count": 7,
   "metadata": {},
   "outputs": [
    {
     "name": "stderr",
     "output_type": "stream",
     "text": [
      "[nltk_data] Downloading package punkt to\n",
      "[nltk_data]     C:\\Users\\sanka\\AppData\\Roaming\\nltk_data...\n",
      "[nltk_data]   Unzipping tokenizers\\punkt.zip.\n"
     ]
    },
    {
     "data": {
      "text/plain": [
       "True"
      ]
     },
     "execution_count": 7,
     "metadata": {},
     "output_type": "execute_result"
    }
   ],
   "source": [
    "nltk.download('punkt')"
   ]
  },
  {
   "cell_type": "markdown",
   "metadata": {},
   "source": [
    "Store the data in an organized manner <br>\n",
    "+ ```document structure -> document = {[url]: {'paragraphs': [], 'sentences': [[], [], ...]}}``` <br>\n",
    "+ where ```url``` (key) is the url of the article, ```paragraphs``` (list) contains a list of all the paragraphs in the article, and ```sentences``` (list) contains a list for sentences of each paragraph. <br>\n",
    "+ the index of each paragraph is same as the index of its list of sentences"
   ]
  },
  {
   "cell_type": "code",
   "execution_count": 8,
   "metadata": {},
   "outputs": [],
   "source": [
    "documents = {}\n",
    "\n",
    "for news_item in news_list:\n",
    "    title = news_item['title']\n",
    "    txt = news_item['text']\n",
    "    url = news_item.get('url')\n",
    "\n",
    "    # since url unique and only once, intialize directly\n",
    "    documents[url] = {'paragraphs': txt.split(\"\\n\\n\"), 'sentences': []}\n",
    "\n",
    "    for paragraph in documents[url]['paragraphs']:\n",
    "        documents[url]['sentences'].append(tokenize.sent_tokenize(paragraph))"
   ]
  },
  {
   "cell_type": "markdown",
   "metadata": {},
   "source": [
    "View the stored structure"
   ]
  },
  {
   "cell_type": "code",
   "execution_count": 9,
   "metadata": {},
   "outputs": [
    {
     "name": "stdout",
     "output_type": "stream",
     "text": [
      "https://www.foxbusiness.com/technology/nvidia-announces-ai-powered-health-care-agents-outperform-nurses-cost-9-hour\n",
      "\t Paragraph -> High-powered chipmaker Nvidia has teamed up with artificial intelligence health care company Hippocratic AI to develop generative AI \"agents\" that not only outperform human nurses on video calls but cost a lot less per hour.\n",
      "\t\t Sentences ->\n",
      "\t\t High-powered chipmaker Nvidia has teamed up with artificial intelligence health care company Hippocratic AI to develop generative AI \"agents\" that not only outperform human nurses on video calls but cost a lot less per hour.\n",
      "\t Paragraph -> The two companies on Thursday announced their collaboration to build \"empathetic health care agents\" powered by Nvidia and trained on Hippocratic's health care-focused large language model (LLM) that are better able to form a human connection with patients through \"super-low latency conversational reactions.\"\n",
      "\t\t Sentences ->\n",
      "\t\t The two companies on Thursday announced their collaboration to build \"empathetic health care agents\" powered by Nvidia and trained on Hippocratic's health care-focused large language model (LLM) that are better able to form a human connection with patients through \"super-low latency conversational reactions.\"\n",
      "\t Paragraph -> Hippocratic's agents have already been tested by more than 1,000 registered nurses and 100 licensed physicians in the U.S., and dozens of health care providers are trying out the bots internally for non-diagnostic tasks.\n",
      "\t\t Sentences ->\n",
      "\t\t Hippocratic's agents have already been tested by more than 1,000 registered nurses and 100 licensed physicians in the U.S., and dozens of health care providers are trying out the bots internally for non-diagnostic tasks.\n",
      "\t Paragraph -> The company's data shows its bots outperform not only rivals such as OpenAI's GPT-4 and the LLaMA 2 70B Chat, but beat human nurses in every category tested.\n",
      "\t\t Sentences ->\n",
      "\t\t The company's data shows its bots outperform not only rivals such as OpenAI's GPT-4 and the LLaMA 2 70B Chat, but beat human nurses in every category tested.\n",
      "\t Paragraph -> NVIDIA CEO JENSEN HUANG ANNOUNCES COMPANY'S NEXT-GEN AI CHIP\n",
      "\t\t Sentences ->\n",
      "\t\t NVIDIA CEO JENSEN HUANG ANNOUNCES COMPANY'S NEXT-GEN AI CHIP\n",
      "--------------------------------------------------------------------------------\n",
      "https://www.aboutamazon.com/news/aws/amazon-aws-nvidia-collaboration\n",
      "\t Paragraph -> Amazon Web Services (AWS) and NVIDIA announced today that the new NVIDIA Blackwell GPU platform—unveiled by NVIDIA at its GTC 2024 developer conference—is coming to AWS.\n",
      "\t\t Sentences ->\n",
      "\t\t Amazon Web Services (AWS) and NVIDIA announced today that the new NVIDIA Blackwell GPU platform—unveiled by NVIDIA at its GTC 2024 developer conference—is coming to AWS.\n",
      "\t Paragraph -> Our commitment to the responsible use of AI Amazon commits to continued collaboration with the White House, policymakers, technology organizations, and the AI community to advance the responsible and secure use of AI. Read more\n",
      "\t\t Sentences ->\n",
      "\t\t Our commitment to the responsible use of AI Amazon commits to continued collaboration with the White House, policymakers, technology organizations, and the AI community to advance the responsible and secure use of AI.\n",
      "\t\t Read more\n",
      "\t Paragraph -> NVIDIA Blackwell on AWS delivers a massive leap forward in speeding up inference workloads for resource-intensive, multi-trillion parameter language models. In other words, the combination of NVIDIA’s latest Superchips running on AWS’s cloud infrastructure will help customers across every industry unlock new generative artificial intelligence (AI) capabilities at an even faster pace.\n",
      "\t\t Sentences ->\n",
      "\t\t NVIDIA Blackwell on AWS delivers a massive leap forward in speeding up inference workloads for resource-intensive, multi-trillion parameter language models.\n",
      "\t\t In other words, the combination of NVIDIA’s latest Superchips running on AWS’s cloud infrastructure will help customers across every industry unlock new generative artificial intelligence (AI) capabilities at an even faster pace.\n",
      "\t Paragraph -> “The deep collaboration between our two organizations goes back more than 13 years, when together we launched the world’s first GPU cloud instance on AWS, and today we offer the widest range of NVIDIA GPU solutions for customers,” said Adam Selipsky, CEO at AWS. “NVIDIA’s next-generation Grace Blackwell processor marks a significant step forward in generative AI and GPU computing. When combined with AWS’s powerful Elastic Fabric Adapter Networking, Amazon EC2 UltraClusters’ hyper-scale clustering, and our unique Nitro system’s advanced virtualization and security capabilities, we make it possible for customers to build and run multi-trillion parameter large language models (LLMs) faster, at massive scale, and more securely than anywhere else.”\n",
      "\t\t Sentences ->\n",
      "\t\t “The deep collaboration between our two organizations goes back more than 13 years, when together we launched the world’s first GPU cloud instance on AWS, and today we offer the widest range of NVIDIA GPU solutions for customers,” said Adam Selipsky, CEO at AWS.\n",
      "\t\t “NVIDIA’s next-generation Grace Blackwell processor marks a significant step forward in generative AI and GPU computing.\n",
      "\t\t When combined with AWS’s powerful Elastic Fabric Adapter Networking, Amazon EC2 UltraClusters’ hyper-scale clustering, and our unique Nitro system’s advanced virtualization and security capabilities, we make it possible for customers to build and run multi-trillion parameter large language models (LLMs) faster, at massive scale, and more securely than anywhere else.”\n",
      "\t Paragraph -> AWS CEO Adam Selipsky (Left) and NVIDIA CEO Jensen Huang (Right) at AWS re:Invent 2023.\n",
      "\t\t Sentences ->\n",
      "\t\t AWS CEO Adam Selipsky (Left) and NVIDIA CEO Jensen Huang (Right) at AWS re:Invent 2023.\n",
      "--------------------------------------------------------------------------------\n",
      "https://nvidianews.nvidia.com/news/nvidia-accelerates-quantum-computing-exploration-at-australias-pawsey-supercomputing-centre\n",
      "\t Paragraph -> Scientists to Run State-of-the-Art Quantum Computing Simulations Using NVIDIA CUDA Quantum Platform, Turbocharged by NVIDIA Grace Hopper Superchips\n",
      "\t\t Sentences ->\n",
      "\t\t Scientists to Run State-of-the-Art Quantum Computing Simulations Using NVIDIA CUDA Quantum Platform, Turbocharged by NVIDIA Grace Hopper Superchips\n",
      "\t Paragraph -> SCA2024 -- NVIDIA today announced that Australia’s Pawsey Supercomputing Research Centre will add the NVIDIA® CUDA Quantum platform accelerated by NVIDIA Grace Hopper™ Superchips to its National Supercomputing and Quantum Computing Innovation Hub, furthering its work driving breakthroughs in quantum computing.\n",
      "\t\t Sentences ->\n",
      "\t\t SCA2024 -- NVIDIA today announced that Australia’s Pawsey Supercomputing Research Centre will add the NVIDIA® CUDA Quantum platform accelerated by NVIDIA Grace Hopper™ Superchips to its National Supercomputing and Quantum Computing Innovation Hub, furthering its work driving breakthroughs in quantum computing.\n",
      "\t Paragraph -> Researchers at the Perth-based center will leverage CUDA Quantum — an open-source hybrid quantum computing platform that features powerful simulation tools, and capabilities to program hybrid CPU, GPU and QPU systems — as well as, the NVIDIA cuQuantum software development kit of optimized libraries and tools for accelerating quantum computing workflows.\n",
      "\t\t Sentences ->\n",
      "\t\t Researchers at the Perth-based center will leverage CUDA Quantum — an open-source hybrid quantum computing platform that features powerful simulation tools, and capabilities to program hybrid CPU, GPU and QPU systems — as well as, the NVIDIA cuQuantum software development kit of optimized libraries and tools for accelerating quantum computing workflows.\n",
      "\t Paragraph -> The NVIDIA Grace Hopper Superchip — which combines the NVIDIA Grace CPU and Hopper GPU architectures — provides extreme performance to run high-fidelity and scalable quantum simulations on accelerators and seamlessly interface with future quantum hardware infrastructure.\n",
      "\t\t Sentences ->\n",
      "\t\t The NVIDIA Grace Hopper Superchip — which combines the NVIDIA Grace CPU and Hopper GPU architectures — provides extreme performance to run high-fidelity and scalable quantum simulations on accelerators and seamlessly interface with future quantum hardware infrastructure.\n",
      "\t Paragraph -> “High-performance simulation is essential for researchers to address the biggest challenges in quantum computing — from algorithm discovery and device design to the invention of powerful methods for error correction, calibration and control,” said Tim Costa, director of HPC and quantum computing at NVIDIA. “CUDA Quantum, together with the NVIDIA Grace Hopper Superchip, allows innovators such as Pawsey Supercomputing Research Centre to achieve these essential breakthroughs and accelerate the timeline to useful quantum-integrated supercomputing.”\n",
      "\t\t Sentences ->\n",
      "\t\t “High-performance simulation is essential for researchers to address the biggest challenges in quantum computing — from algorithm discovery and device design to the invention of powerful methods for error correction, calibration and control,” said Tim Costa, director of HPC and quantum computing at NVIDIA.\n",
      "\t\t “CUDA Quantum, together with the NVIDIA Grace Hopper Superchip, allows innovators such as Pawsey Supercomputing Research Centre to achieve these essential breakthroughs and accelerate the timeline to useful quantum-integrated supercomputing.”\n",
      "--------------------------------------------------------------------------------\n",
      "https://nvidianews.nvidia.com/news/nvidia-announces-upcoming-events-for-financial-community-6900012\n",
      "\t Paragraph -> SANTA CLARA, Calif., Feb. 22, 2024 (GLOBE NEWSWIRE) -- NVIDIA will present at the following events for the financial community:\n",
      "\t\t Sentences ->\n",
      "\t\t SANTA CLARA, Calif., Feb. 22, 2024 (GLOBE NEWSWIRE) -- NVIDIA will present at the following events for the financial community:\n",
      "\t Paragraph -> Morgan Stanley Technology, Media and Telecom Conference 2024\n",
      "\t\t Sentences ->\n",
      "\t\t Morgan Stanley Technology, Media and Telecom Conference 2024\n",
      "\t Paragraph -> Monday, March 4, 10:15 a.m. Pacific time\n",
      "\t\t Sentences ->\n",
      "\t\t Monday, March 4, 10:15 a.m. Pacific time\n",
      "\t Paragraph -> Cowen’s 44th Annual Health Care Conference\n",
      "\t\t Sentences ->\n",
      "\t\t Cowen’s 44th Annual Health Care Conference\n",
      "\t Paragraph -> Tuesday, March 5, 6:50 a.m. Pacific time\n",
      "\t\t Sentences ->\n",
      "\t\t Tuesday, March 5, 6:50 a.m. Pacific time\n",
      "--------------------------------------------------------------------------------\n",
      "https://www.crowdstrike.com/press-releases/crowdstrike-nvidia-generative-ai-collaboration/\n",
      "\t Paragraph -> CrowdStrike Collaborates with NVIDIA to Advance Cybersecurity with Generative AI\n",
      "\t\t Sentences ->\n",
      "\t\t CrowdStrike Collaborates with NVIDIA to Advance Cybersecurity with Generative AI\n",
      "\t Paragraph -> Companies join forces to bring LLM-powered applications to the enterprise, unleashing the power of the CrowdStrike Falcon® XDR platform data with NVIDIA AI Software, including new NVIDIA NIM microservices\n",
      "\t\t Sentences ->\n",
      "\t\t Companies join forces to bring LLM-powered applications to the enterprise, unleashing the power of the CrowdStrike Falcon® XDR platform data with NVIDIA AI Software, including new NVIDIA NIM microservices\n",
      "\t Paragraph -> AUSTIN, Texas – March 18, 2024 – CrowdStrike (NASDAQ: CRWD) today announced a strategic collaboration with NVIDIA to deliver NVIDIA’s AI computing services on the industry-leading AI-native CrowdStrike Falcon® XDR platform. Combining Falcon platform data with NVIDIA’s GPU-optimized AI pipelines and software, including new NVIDIA NIM microservices, puts custom and secure generative AI model creation in the hands of CrowdStrike and NVIDIA customers.\n",
      "\t\t Sentences ->\n",
      "\t\t AUSTIN, Texas – March 18, 2024 – CrowdStrike (NASDAQ: CRWD) today announced a strategic collaboration with NVIDIA to deliver NVIDIA’s AI computing services on the industry-leading AI-native CrowdStrike Falcon® XDR platform.\n",
      "\t\t Combining Falcon platform data with NVIDIA’s GPU-optimized AI pipelines and software, including new NVIDIA NIM microservices, puts custom and secure generative AI model creation in the hands of CrowdStrike and NVIDIA customers.\n",
      "\t Paragraph -> According to the 2024 CrowdStrike Global Threat Report, the average breakout time is now down to 62 minutes, with the fastest recorded attack being just over two minutes. As modern attacks grow faster and more sophisticated, organizations need AI-powered security to gain the organizational speed and automation required to stay protected and stop breaches.\n",
      "\t\t Sentences ->\n",
      "\t\t According to the 2024 CrowdStrike Global Threat Report, the average breakout time is now down to 62 minutes, with the fastest recorded attack being just over two minutes.\n",
      "\t\t As modern attacks grow faster and more sophisticated, organizations need AI-powered security to gain the organizational speed and automation required to stay protected and stop breaches.\n",
      "\t Paragraph -> “Since our founding, CrowdStrike has pioneered the use of AI in cybersecurity. Our customers from all verticals, segments, and geographies are increasing adoption of AI/ML across their businesses, looking to generative AI for efficiency, speed, and innovation,” said George Kurtz, co-founder and CEO at CrowdStrike. “Our collaboration with NVIDIA combines the power of two innovative industry leaders to not only help customers meet and exceed necessary security requirements, but also increase adoption of AI technologies for business acceleration and value creation.”\n",
      "\t\t Sentences ->\n",
      "\t\t “Since our founding, CrowdStrike has pioneered the use of AI in cybersecurity.\n",
      "\t\t Our customers from all verticals, segments, and geographies are increasing adoption of AI/ML across their businesses, looking to generative AI for efficiency, speed, and innovation,” said George Kurtz, co-founder and CEO at CrowdStrike.\n",
      "\t\t “Our collaboration with NVIDIA combines the power of two innovative industry leaders to not only help customers meet and exceed necessary security requirements, but also increase adoption of AI technologies for business acceleration and value creation.”\n",
      "--------------------------------------------------------------------------------\n",
      "https://coe.gatech.edu/news/2024/04/georgia-tech-unveils-new-ai-makerspace-collaboration-nvidia\n",
      "\t Paragraph -> Georgia Tech’s College of Engineering has established an artificial intelligence supercomputer hub dedicated exclusively to teaching students. The initiative — the AI Makerspace — is launched in collaboration with NVIDIA. College leaders call it a digital sandbox for students to understand and use AI in the classroom.\n",
      "\t\t Sentences ->\n",
      "\t\t Georgia Tech’s College of Engineering has established an artificial intelligence supercomputer hub dedicated exclusively to teaching students.\n",
      "\t\t The initiative — the AI Makerspace — is launched in collaboration with NVIDIA.\n",
      "\t\t College leaders call it a digital sandbox for students to understand and use AI in the classroom.\n",
      "\t Paragraph -> Initially focusing on undergraduate students, the AI Makerspace aims to democratize access to computing resources typically reserved for researchers or technology companies. Students will access the cluster online as part of their coursework, deepening their AI skills through hands-on experience. The Makerspace will also better position students after graduation as they work with AI professionals and help shape the technology’s future applications.\n",
      "\t\t Sentences ->\n",
      "\t\t Initially focusing on undergraduate students, the AI Makerspace aims to democratize access to computing resources typically reserved for researchers or technology companies.\n",
      "\t\t Students will access the cluster online as part of their coursework, deepening their AI skills through hands-on experience.\n",
      "\t\t The Makerspace will also better position students after graduation as they work with AI professionals and help shape the technology’s future applications.\n",
      "\t Paragraph -> “The launch of the AI Makerspace represents another milestone in Georgia Tech’s legacy of innovation and leadership in education,” said Raheem Beyah, dean of the College and Southern Company Chair. “Thanks to NVIDIA’s advanced technology and expertise, our students at all levels have a path to make significant contributions and lead in the rapidly evolving field of AI.”\n",
      "\t\t Sentences ->\n",
      "\t\t “The launch of the AI Makerspace represents another milestone in Georgia Tech’s legacy of innovation and leadership in education,” said Raheem Beyah, dean of the College and Southern Company Chair.\n",
      "\t\t “Thanks to NVIDIA’s advanced technology and expertise, our students at all levels have a path to make significant contributions and lead in the rapidly evolving field of AI.”\n",
      "--------------------------------------------------------------------------------\n",
      "https://azure.microsoft.com/en-us/blog/microsoft-and-nvidia-partnership-continues-to-deliver-on-the-promise-of-ai/\n",
      "\t Paragraph -> At NVIDIA GTC, Microsoft and NVIDIA are announcing new offerings across a breadth of solution areas from leading AI infrastructure to new platform integrations, and industry breakthroughs. Today’s news expands our long-standing collaboration, which has paved the way for revolutionary AI innovations that customers are now bringing to fruition.\n",
      "\t\t Sentences ->\n",
      "\t\t At NVIDIA GTC, Microsoft and NVIDIA are announcing new offerings across a breadth of solution areas from leading AI infrastructure to new platform integrations, and industry breakthroughs.\n",
      "\t\t Today’s news expands our long-standing collaboration, which has paved the way for revolutionary AI innovations that customers are now bringing to fruition.\n",
      "\t Paragraph -> Microsoft and NVIDIA collaborate on Grace Blackwell 200 Superchip for next-generation AI models\n",
      "\t\t Sentences ->\n",
      "\t\t Microsoft and NVIDIA collaborate on Grace Blackwell 200 Superchip for next-generation AI models\n",
      "\t Paragraph -> Microsoft and NVIDIA are bringing the power of the NVIDIA Grace Blackwell 200 (GB200) Superchip to Microsoft Azure. The GB200 is a new processor designed specifically for large-scale generative AI workloads, data processing, and high performance workloads, featuring up to a massive 16 TB/s of memory bandwidth and up to an estimated 30 times the inference on trillion parameter models relative to the previous Hopper generation of servers.\n",
      "\t\t Sentences ->\n",
      "\t\t Microsoft and NVIDIA are bringing the power of the NVIDIA Grace Blackwell 200 (GB200) Superchip to Microsoft Azure.\n",
      "\t\t The GB200 is a new processor designed specifically for large-scale generative AI workloads, data processing, and high performance workloads, featuring up to a massive 16 TB/s of memory bandwidth and up to an estimated 30 times the inference on trillion parameter models relative to the previous Hopper generation of servers.\n",
      "\t Paragraph -> Microsoft has worked closely with NVIDIA to ensure their GPUs, including the GB200, can handle the latest large language models (LLMs) trained on Azure AI infrastructure. These models require enormous amounts of data and compute to train and run, and the GB200 will enable Microsoft to help customers scale these resources to new levels of performance and accuracy.\n",
      "\t\t Sentences ->\n",
      "\t\t Microsoft has worked closely with NVIDIA to ensure their GPUs, including the GB200, can handle the latest large language models (LLMs) trained on Azure AI infrastructure.\n",
      "\t\t These models require enormous amounts of data and compute to train and run, and the GB200 will enable Microsoft to help customers scale these resources to new levels of performance and accuracy.\n",
      "\t Paragraph -> Microsoft will also deploy an end-to-end AI compute fabric with the recently announced NVIDIA Quantum-X800 InfiniBand networking platform. By taking advantage of its in-network computing capabilities with SHARPv4, and its added support for FP8 for leading-edge AI techniques, NVIDIA Quantum-X800 extends the GB200’s parallel computing tasks into massive GPU scale.\n",
      "\t\t Sentences ->\n",
      "\t\t Microsoft will also deploy an end-to-end AI compute fabric with the recently announced NVIDIA Quantum-X800 InfiniBand networking platform.\n",
      "\t\t By taking advantage of its in-network computing capabilities with SHARPv4, and its added support for FP8 for leading-edge AI techniques, NVIDIA Quantum-X800 extends the GB200’s parallel computing tasks into massive GPU scale.\n",
      "--------------------------------------------------------------------------------\n",
      "https://spectrum.ieee.org/nvidia-blackwell\n",
      "\t Paragraph -> Samuel K. Moore is the senior editor at IEEE Spectrum in charge of semiconductors coverage. An IEEE member, he has a bachelor's degree in biomedical engineering from Brown University and a master's degree in journalism from New York University.\n",
      "\t\t Sentences ->\n",
      "\t\t Samuel K. Moore is the senior editor at IEEE Spectrum in charge of semiconductors coverage.\n",
      "\t\t An IEEE member, he has a bachelor's degree in biomedical engineering from Brown University and a master's degree in journalism from New York University.\n",
      "--------------------------------------------------------------------------------\n",
      "https://nvidianews.nvidia.com/news/nvidia-hp-supercharge-data-science-generative-ai-workstations\n",
      "\t Paragraph -> Coming to Z by HP AI Studio, NVIDIA CUDA-X Data Processing Libraries Boost Python Pandas Software for Millions of Data Scientists\n",
      "\t\t Sentences ->\n",
      "\t\t Coming to Z by HP AI Studio, NVIDIA CUDA-X Data Processing Libraries Boost Python Pandas Software for Millions of Data Scientists\n",
      "\t Paragraph -> HP Amplify — NVIDIA and HP Inc. today announced that NVIDIA CUDA-X ™ data processing libraries will be integrated with HP AI workstation solutions to turbocharge the data preparation and processing work that forms the foundation of generative AI development.\n",
      "\t\t Sentences ->\n",
      "\t\t HP Amplify — NVIDIA and HP Inc. today announced that NVIDIA CUDA-X ™ data processing libraries will be integrated with HP AI workstation solutions to turbocharge the data preparation and processing work that forms the foundation of generative AI development.\n",
      "\t Paragraph -> Built on the NVIDIA CUDA ® compute platform, CUDA-X libraries speed data processing for a broad range of data types, including tables, text, images and video. They include the NVIDIA RAPIDS™ cuDF library, which accelerates the work of the nearly 10 million data scientists using pandas software by up to 110x using an NVIDIA RTX™ 6000 Ada Generation GPU instead of a CPU-only system, without requiring any code changes.\n",
      "\t\t Sentences ->\n",
      "\t\t Built on the NVIDIA CUDA ® compute platform, CUDA-X libraries speed data processing for a broad range of data types, including tables, text, images and video.\n",
      "\t\t They include the NVIDIA RAPIDS™ cuDF library, which accelerates the work of the nearly 10 million data scientists using pandas software by up to 110x using an NVIDIA RTX™ 6000 Ada Generation GPU instead of a CPU-only system, without requiring any code changes.\n",
      "\t Paragraph -> RAPIDS cuDF and other NVIDIA software will be available as part of Z by HP AI Studio on HP AI workstations to provide a full-stack development solution that speeds data science workflows.\n",
      "\t\t Sentences ->\n",
      "\t\t RAPIDS cuDF and other NVIDIA software will be available as part of Z by HP AI Studio on HP AI workstations to provide a full-stack development solution that speeds data science workflows.\n",
      "\t Paragraph -> “Pandas is the essential tool of millions of data scientists processing and preparing data for generative AI,” said Jensen Huang, founder and CEO at NVIDIA. “Accelerating pandas with zero code changes will be a massive step forward. Data scientists can process data in minutes rather than hours, and wrangle orders of magnitude more data to train generative AI models.”\n",
      "\t\t Sentences ->\n",
      "\t\t “Pandas is the essential tool of millions of data scientists processing and preparing data for generative AI,” said Jensen Huang, founder and CEO at NVIDIA.\n",
      "\t\t “Accelerating pandas with zero code changes will be a massive step forward.\n",
      "\t\t Data scientists can process data in minutes rather than hours, and wrangle orders of magnitude more data to train generative AI models.”\n",
      "--------------------------------------------------------------------------------\n",
      "https://www.reuters.com/technology/nvidia-is-sued-by-authors-over-ai-use-copyrighted-works-2024-03-10/\n",
      "\t Paragraph -> Nvidia is sued by authors over AI use of copyrighted works  Reuters\n",
      "\t\t Sentences ->\n",
      "\t\t Nvidia is sued by authors over AI use of copyrighted works  Reuters\n",
      "--------------------------------------------------------------------------------\n"
     ]
    }
   ],
   "source": [
    "# for every article in document, viewing format (5 paragraphs, 5 sentences per paragraph for view simplicity)\n",
    "for url in documents:\n",
    "    print(url)\n",
    "    for i, paragraph in enumerate(documents[url]['paragraphs'][:5]):\n",
    "        print(\"\\t\", \"Paragraph ->\", paragraph)\n",
    "        print(\"\\t\\t\", \"Sentences ->\")\n",
    "        for sentence in documents[url]['sentences'][i]:\n",
    "            print(\"\\t\\t\", sentence.strip())\n",
    "\n",
    "    print(\"-\"*80)\n"
   ]
  },
  {
   "cell_type": "code",
   "execution_count": 11,
   "metadata": {},
   "outputs": [
    {
     "name": "stderr",
     "output_type": "stream",
     "text": [
      "[nltk_data] Downloading package vader_lexicon to\n",
      "[nltk_data]     C:\\Users\\sanka\\AppData\\Roaming\\nltk_data...\n"
     ]
    },
    {
     "data": {
      "text/plain": [
       "True"
      ]
     },
     "execution_count": 11,
     "metadata": {},
     "output_type": "execute_result"
    }
   ],
   "source": [
    "nltk.download('vader_lexicon')"
   ]
  },
  {
   "cell_type": "markdown",
   "metadata": {},
   "source": [
    "# Perform additional Preprocessing for refined sentiment scoring"
   ]
  },
  {
   "cell_type": "code",
   "execution_count": null,
   "metadata": {},
   "outputs": [],
   "source": [
    "# Preprocess"
   ]
  },
  {
   "cell_type": "markdown",
   "metadata": {},
   "source": [
    "# Calculate Polarity/Compound scores"
   ]
  },
  {
   "cell_type": "code",
   "execution_count": 12,
   "metadata": {},
   "outputs": [
    {
     "name": "stdout",
     "output_type": "stream",
     "text": [
      "Document URL: https://www.foxbusiness.com/technology/nvidia-announces-ai-powered-health-care-agents-outperform-nurses-cost-9-hour\n",
      "Sentiment: 0.310884375\n",
      "Document URL: https://www.aboutamazon.com/news/aws/amazon-aws-nvidia-collaboration\n",
      "Sentiment: 0.3004503030303031\n",
      "Document URL: https://nvidianews.nvidia.com/news/nvidia-accelerates-quantum-computing-exploration-at-australias-pawsey-supercomputing-centre\n",
      "Sentiment: 0.42408333333333337\n",
      "Document URL: https://nvidianews.nvidia.com/news/nvidia-announces-upcoming-events-for-financial-community-6900012\n",
      "Sentiment: 0.08356363636363637\n",
      "Document URL: https://www.crowdstrike.com/press-releases/crowdstrike-nvidia-generative-ai-collaboration/\n",
      "Sentiment: 0.07590433333333334\n",
      "Document URL: https://coe.gatech.edu/news/2024/04/georgia-tech-unveils-new-ai-makerspace-collaboration-nvidia\n",
      "Sentiment: 0.30451666666666666\n",
      "Document URL: https://azure.microsoft.com/en-us/blog/microsoft-and-nvidia-partnership-continues-to-deliver-on-the-promise-of-ai/\n",
      "Sentiment: 0.320696568627451\n",
      "Document URL: https://spectrum.ieee.org/nvidia-blackwell\n",
      "Sentiment: 0.0\n",
      "Document URL: https://nvidianews.nvidia.com/news/nvidia-hp-supercharge-data-science-generative-ai-workstations\n",
      "Sentiment: 0.22583999999999996\n",
      "Document URL: https://www.reuters.com/technology/nvidia-is-sued-by-authors-over-ai-use-copyrighted-works-2024-03-10/\n",
      "Sentiment: 0.0\n"
     ]
    }
   ],
   "source": [
    "# apply sentiment through nltk\n",
    "# Initialize Vader sentiment analyzer\n",
    "sid = SentimentIntensityAnalyzer()\n",
    "\n",
    "for url in documents:\n",
    "    document_sentiments = []\n",
    "\n",
    "    for i, paragraph in enumerate(documents[url]['paragraphs']):\n",
    "        paragraph_sentiments = [] # stores sentiment of every sentence in the paragraph\n",
    "\n",
    "        for sentence in documents[url]['sentences'][i]:\n",
    "            # calculate sentiment polarity of the sentence\n",
    "            sentence_sentiment_score = sid.polarity_scores(sentence.strip())\n",
    "            compound_score = sentence_sentiment_score['compound']\n",
    "            paragraph_sentiments.append(compound_score)\n",
    "\n",
    "        # calculate avg sentiment polarity for the paragraph\n",
    "        if paragraph_sentiments:\n",
    "            paragraph_sentiment = sum(paragraph_sentiments) / len(paragraph_sentiments)\n",
    "            document_sentiments.append(paragraph_sentiment)\n",
    "\n",
    "    if document_sentiments:\n",
    "        document_sentiment = sum(document_sentiments) / len(document_sentiments)\n",
    "        print(f\"Document URL: {url}\")\n",
    "        print(f\"Sentiment: {document_sentiment}\")"
   ]
  }
 ],
 "metadata": {
  "kernelspec": {
   "display_name": "base",
   "language": "python",
   "name": "python3"
  },
  "language_info": {
   "codemirror_mode": {
    "name": "ipython",
    "version": 3
   },
   "file_extension": ".py",
   "mimetype": "text/x-python",
   "name": "python",
   "nbconvert_exporter": "python",
   "pygments_lexer": "ipython3",
   "version": "3.9.13"
  }
 },
 "nbformat": 4,
 "nbformat_minor": 2
}
